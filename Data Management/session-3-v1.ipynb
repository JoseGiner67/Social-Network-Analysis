{
 "cells": [
  {
   "cell_type": "markdown",
   "metadata": {},
   "source": [
    "# Practice Session 03: Management of network data"
   ]
  },
  {
   "cell_type": "markdown",
   "metadata": {},
   "source": [
    "In this session we will study an application of complex networks analysis to medicine. We will start with the *diseasome*, a bi-partite network connecting all known genetic diseases with genes whose mutations are implicated in that disease [1].\n",
    "\n",
    "The initial dataset `disease-genes.csv` in the data/ directory contains the following columns:\n",
    "\n",
    "1. A disorder **ID**\n",
    "2. A disorder **Name**\n",
    "3. A comma-separated list of **Genes** involved in this disorder\n",
    "4. The **OMIM ID** (Online Mendelian Inheritance in Man) of this disorder\n",
    "5. A codification of the location of the genes in their **Chromosome**\n",
    "6. A disorder **Class** indicating the physiological system that is affected\n",
    "\n",
    "[1] Goh, K. I., Cusick, M. E., Valle, D., Childs, B., Vidal, M., & Barabási, A. L. (2007). [The human disease network](http://www.pnas.org/content/104/21/8685). Proceedings of the National Academy of Sciences, 104(21), 8685-8690."
   ]
  },
  {
   "cell_type": "markdown",
   "metadata": {},
   "source": [
    "Author: <font color=\"blue\">Jose Giner</font>\n",
    "\n",
    "E-mail: <font color=\"blue\">joseginer67@gmail.com</font>\n",
    "\n",
    "Date: <font color=\"blue\">15/02/2022</font>"
   ]
  },
  {
   "cell_type": "markdown",
   "metadata": {},
   "source": [
    "# 1. The diseasome bi-partite graph"
   ]
  },
  {
   "cell_type": "code",
   "execution_count": 5,
   "metadata": {},
   "outputs": [],
   "source": [
    "# Feel free to add imports if you need them\n",
    "import io\n",
    "import csv\n",
    "import pandas as pd"
   ]
  },
  {
   "cell_type": "code",
   "execution_count": 2,
   "metadata": {},
   "outputs": [],
   "source": [
    "# Leave this code as-is\n",
    "\n",
    "INPUT_FILENAME = \"disease-genes.csv\"\n",
    "OUTPUT_DISEASOME_FILENAME = \"diseasome.csv\""
   ]
  },
  {
   "cell_type": "code",
   "execution_count": 3,
   "metadata": {},
   "outputs": [
    {
     "data": {
      "text/html": [
       "<div>\n",
       "<style scoped>\n",
       "    .dataframe tbody tr th:only-of-type {\n",
       "        vertical-align: middle;\n",
       "    }\n",
       "\n",
       "    .dataframe tbody tr th {\n",
       "        vertical-align: top;\n",
       "    }\n",
       "\n",
       "    .dataframe thead th {\n",
       "        text-align: right;\n",
       "    }\n",
       "</style>\n",
       "<table border=\"1\" class=\"dataframe\">\n",
       "  <thead>\n",
       "    <tr style=\"text-align: right;\">\n",
       "      <th></th>\n",
       "      <th>Name</th>\n",
       "      <th>Genes</th>\n",
       "      <th>OMIM ID</th>\n",
       "      <th>Chromosome</th>\n",
       "      <th>Class</th>\n",
       "    </tr>\n",
       "    <tr>\n",
       "      <th>ID</th>\n",
       "      <th></th>\n",
       "      <th></th>\n",
       "      <th></th>\n",
       "      <th></th>\n",
       "      <th></th>\n",
       "    </tr>\n",
       "  </thead>\n",
       "  <tbody>\n",
       "    <tr>\n",
       "      <th>1</th>\n",
       "      <td>17,20-lyase deficiency, isolated</td>\n",
       "      <td>CYP17A1, CYP17, P450C17</td>\n",
       "      <td>609300</td>\n",
       "      <td>10q24.3</td>\n",
       "      <td>Endocrine</td>\n",
       "    </tr>\n",
       "    <tr>\n",
       "      <th>1</th>\n",
       "      <td>17-alpha-hydroxylase/17,20-lyase deficiency</td>\n",
       "      <td>CYP17A1, CYP17, P450C17</td>\n",
       "      <td>609300</td>\n",
       "      <td>10q24.3</td>\n",
       "      <td>Endocrine</td>\n",
       "    </tr>\n",
       "    <tr>\n",
       "      <th>3</th>\n",
       "      <td>2-methyl-3-hydroxybutyryl-CoA dehydrogenase de...</td>\n",
       "      <td>HADH2, ERAB</td>\n",
       "      <td>300256</td>\n",
       "      <td>Xp11.2</td>\n",
       "      <td>Metabolic</td>\n",
       "    </tr>\n",
       "    <tr>\n",
       "      <th>4</th>\n",
       "      <td>2-methylbutyrylglycinuria</td>\n",
       "      <td>ACADSB</td>\n",
       "      <td>600301</td>\n",
       "      <td>10q25-q26</td>\n",
       "      <td>Metabolic</td>\n",
       "    </tr>\n",
       "    <tr>\n",
       "      <th>5</th>\n",
       "      <td>3-beta-hydroxysteroid dehydrogenase, type II, ...</td>\n",
       "      <td>HSD3B2</td>\n",
       "      <td>201810</td>\n",
       "      <td>1p13.1</td>\n",
       "      <td>Metabolic</td>\n",
       "    </tr>\n",
       "    <tr>\n",
       "      <th>6</th>\n",
       "      <td>3-hydroxyacyl-CoA dehydrogenase deficiency</td>\n",
       "      <td>HADHSC, SCHAD</td>\n",
       "      <td>601609</td>\n",
       "      <td>4q22-q26</td>\n",
       "      <td>Metabolic</td>\n",
       "    </tr>\n",
       "    <tr>\n",
       "      <th>7</th>\n",
       "      <td>3-Methylcrotonyl-CoA carboxylase 1 deficiency</td>\n",
       "      <td>MCCC1, MCCA</td>\n",
       "      <td>609010</td>\n",
       "      <td>3q25-q27</td>\n",
       "      <td>Metabolic</td>\n",
       "    </tr>\n",
       "    <tr>\n",
       "      <th>7</th>\n",
       "      <td>3-Methylcrotonyl-CoA carboxylase 2 deficiency</td>\n",
       "      <td>MCCC2, MCCB</td>\n",
       "      <td>609014</td>\n",
       "      <td>5q12-q13</td>\n",
       "      <td>Metabolic</td>\n",
       "    </tr>\n",
       "    <tr>\n",
       "      <th>8</th>\n",
       "      <td>3-methylglutaconic aciduria, type I</td>\n",
       "      <td>AUH</td>\n",
       "      <td>600529</td>\n",
       "      <td>Chr.9</td>\n",
       "      <td>Metabolic</td>\n",
       "    </tr>\n",
       "    <tr>\n",
       "      <th>9</th>\n",
       "      <td>3-methylglutaconicaciduria, type III</td>\n",
       "      <td>OPA3, MGA3</td>\n",
       "      <td>606580</td>\n",
       "      <td>19q13.2-q13.3</td>\n",
       "      <td>Metabolic</td>\n",
       "    </tr>\n",
       "  </tbody>\n",
       "</table>\n",
       "</div>"
      ],
      "text/plain": [
       "                                                 Name  \\\n",
       "ID                                                      \n",
       "1                    17,20-lyase deficiency, isolated   \n",
       "1         17-alpha-hydroxylase/17,20-lyase deficiency   \n",
       "3   2-methyl-3-hydroxybutyryl-CoA dehydrogenase de...   \n",
       "4                           2-methylbutyrylglycinuria   \n",
       "5   3-beta-hydroxysteroid dehydrogenase, type II, ...   \n",
       "6          3-hydroxyacyl-CoA dehydrogenase deficiency   \n",
       "7       3-Methylcrotonyl-CoA carboxylase 1 deficiency   \n",
       "7       3-Methylcrotonyl-CoA carboxylase 2 deficiency   \n",
       "8                 3-methylglutaconic aciduria, type I   \n",
       "9                3-methylglutaconicaciduria, type III   \n",
       "\n",
       "                      Genes  OMIM ID     Chromosome      Class  \n",
       "ID                                                              \n",
       "1   CYP17A1, CYP17, P450C17   609300        10q24.3  Endocrine  \n",
       "1   CYP17A1, CYP17, P450C17   609300        10q24.3  Endocrine  \n",
       "3               HADH2, ERAB   300256         Xp11.2  Metabolic  \n",
       "4                    ACADSB   600301      10q25-q26  Metabolic  \n",
       "5                    HSD3B2   201810         1p13.1  Metabolic  \n",
       "6             HADHSC, SCHAD   601609       4q22-q26  Metabolic  \n",
       "7               MCCC1, MCCA   609010       3q25-q27  Metabolic  \n",
       "7               MCCC2, MCCB   609014       5q12-q13  Metabolic  \n",
       "8                       AUH   600529          Chr.9  Metabolic  \n",
       "9                OPA3, MGA3   606580  19q13.2-q13.3  Metabolic  "
      ]
     },
     "execution_count": 3,
     "metadata": {},
     "output_type": "execute_result"
    }
   ],
   "source": [
    "# Leave this code as-is\n",
    "\n",
    "disease_genes = pd.read_csv('C:\\\\Users\\\\Jose Giner\\OneDrive\\\\Escritorio\\\\SNA\\\\P3\\\\'+ INPUT_FILENAME, sep=\",\")\n",
    "disease_genes.set_index(\"ID\", inplace=True)\n",
    "# Ten first lines to check if the object has the right type of data in it.\n",
    "disease_genes.head(10)"
   ]
  },
  {
   "cell_type": "code",
   "execution_count": 4,
   "metadata": {
    "scrolled": true
   },
   "outputs": [
    {
     "data": {
      "text/html": [
       "<div>\n",
       "<style scoped>\n",
       "    .dataframe tbody tr th:only-of-type {\n",
       "        vertical-align: middle;\n",
       "    }\n",
       "\n",
       "    .dataframe tbody tr th {\n",
       "        vertical-align: top;\n",
       "    }\n",
       "\n",
       "    .dataframe thead th {\n",
       "        text-align: right;\n",
       "    }\n",
       "</style>\n",
       "<table border=\"1\" class=\"dataframe\">\n",
       "  <thead>\n",
       "    <tr style=\"text-align: right;\">\n",
       "      <th></th>\n",
       "      <th>disorder</th>\n",
       "      <th>class</th>\n",
       "      <th>gene_list</th>\n",
       "    </tr>\n",
       "  </thead>\n",
       "  <tbody>\n",
       "    <tr>\n",
       "      <th>0</th>\n",
       "      <td>17,20-lyase deficiency, isolated</td>\n",
       "      <td>Endocrine</td>\n",
       "      <td>CYP17A1, CYP17, P450C17</td>\n",
       "    </tr>\n",
       "    <tr>\n",
       "      <th>1</th>\n",
       "      <td>17-alpha-hydroxylase/17,20-lyase deficiency</td>\n",
       "      <td>Endocrine</td>\n",
       "      <td>CYP17A1, CYP17, P450C17</td>\n",
       "    </tr>\n",
       "    <tr>\n",
       "      <th>2</th>\n",
       "      <td>2-methyl-3-hydroxybutyryl-CoA dehydrogenase de...</td>\n",
       "      <td>Metabolic</td>\n",
       "      <td>HADH2, ERAB</td>\n",
       "    </tr>\n",
       "  </tbody>\n",
       "</table>\n",
       "</div>"
      ],
      "text/plain": [
       "                                            disorder      class  \\\n",
       "0                   17,20-lyase deficiency, isolated  Endocrine   \n",
       "1        17-alpha-hydroxylase/17,20-lyase deficiency  Endocrine   \n",
       "2  2-methyl-3-hydroxybutyryl-CoA dehydrogenase de...  Metabolic   \n",
       "\n",
       "                 gene_list  \n",
       "0  CYP17A1, CYP17, P450C17  \n",
       "1  CYP17A1, CYP17, P450C17  \n",
       "2              HADH2, ERAB  "
      ]
     },
     "execution_count": 4,
     "metadata": {},
     "output_type": "execute_result"
    }
   ],
   "source": [
    "diseasome = {'disorder':  disease_genes['Name'],\n",
    "        'class': disease_genes['Class'],\n",
    "             'gene_list' : disease_genes['Genes']\n",
    "        }\n",
    "\n",
    "diseasome = pd.DataFrame(diseasome)\n",
    "diseasome.reset_index(inplace=True) # Resets the index, makes factor a column\n",
    "diseasome.drop(\"ID\",axis=1,inplace=True) # drop factor from axis 1 and make changes permanent by inplace=True\n",
    "diseasome.head(3)"
   ]
  },
  {
   "cell_type": "code",
   "execution_count": 46,
   "metadata": {},
   "outputs": [],
   "source": [
    "nrows = diseasome.shape[0]\n",
    "disorder_genes = [] \n",
    "for i in range(nrows):\n",
    "    d = diseasome[\"disorder\"].iloc[i]\n",
    "    c = diseasome[\"class\"].iloc[i]\n",
    "    gene_list = list(map(str.strip, diseasome[\"gene_list\"].iloc[i].split(',')))\n",
    "    for g in gene_list:\n",
    "        disorder_genes.append((d,c,g))\n",
    "        \n",
    "disorders = [d[0] for d in disorder_genes]\n",
    "dis_class = [d[1] for d in disorder_genes]\n",
    "genes = [d[2] for d in disorder_genes]\n",
    "\n",
    "df = pd.DataFrame({'disorder': disorders,\n",
    "                  'class': dis_class,\n",
    "                  'gene': genes})    "
   ]
  },
  {
   "cell_type": "code",
   "execution_count": 54,
   "metadata": {},
   "outputs": [
    {
     "data": {
      "text/html": [
       "<div>\n",
       "<style scoped>\n",
       "    .dataframe tbody tr th:only-of-type {\n",
       "        vertical-align: middle;\n",
       "    }\n",
       "\n",
       "    .dataframe tbody tr th {\n",
       "        vertical-align: top;\n",
       "    }\n",
       "\n",
       "    .dataframe thead th {\n",
       "        text-align: right;\n",
       "    }\n",
       "</style>\n",
       "<table border=\"1\" class=\"dataframe\">\n",
       "  <thead>\n",
       "    <tr style=\"text-align: right;\">\n",
       "      <th></th>\n",
       "      <th>disorder</th>\n",
       "      <th>class</th>\n",
       "      <th>gene</th>\n",
       "    </tr>\n",
       "  </thead>\n",
       "  <tbody>\n",
       "    <tr>\n",
       "      <th>0</th>\n",
       "      <td>17,20-lyase deficiency, isolated</td>\n",
       "      <td>Endocrine</td>\n",
       "      <td>CYP17A1</td>\n",
       "    </tr>\n",
       "    <tr>\n",
       "      <th>1</th>\n",
       "      <td>17,20-lyase deficiency, isolated</td>\n",
       "      <td>Endocrine</td>\n",
       "      <td>CYP17</td>\n",
       "    </tr>\n",
       "    <tr>\n",
       "      <th>2</th>\n",
       "      <td>17,20-lyase deficiency, isolated</td>\n",
       "      <td>Endocrine</td>\n",
       "      <td>P450C17</td>\n",
       "    </tr>\n",
       "  </tbody>\n",
       "</table>\n",
       "</div>"
      ],
      "text/plain": [
       "                           disorder      class     gene\n",
       "0  17,20-lyase deficiency, isolated  Endocrine  CYP17A1\n",
       "1  17,20-lyase deficiency, isolated  Endocrine    CYP17\n",
       "2  17,20-lyase deficiency, isolated  Endocrine  P450C17"
      ]
     },
     "execution_count": 54,
     "metadata": {},
     "output_type": "execute_result"
    }
   ],
   "source": [
    "df.head(3)"
   ]
  },
  {
   "cell_type": "code",
   "execution_count": 52,
   "metadata": {},
   "outputs": [],
   "source": [
    "df.to_csv(OUTPUT_DISEASOME_FILENAME,sep = '\\t', index = False)"
   ]
  },
  {
   "cell_type": "markdown",
   "metadata": {},
   "source": [
    "![Diseasome graph](diseasome.png) "
   ]
  },
  {
   "cell_type": "markdown",
   "metadata": {},
   "source": [
    "In this graph, we can see that diseases are linked to genes and viceversa, and there are 3 or 4 main components which are joined by disorders acting as bridge nodes. Also there are regions containing diseases of different types that are caused by the same genes. The largest component contains 274 nodes out of 6386 that compose the graph (4.3%). The dominant type of disease in the largest component is cancer with 95 nodes out of 132, aproximately a 72% of diseases. Diseases of the same type are close to each other because they are associated with similar or same genes."
   ]
  },
  {
   "cell_type": "markdown",
   "metadata": {},
   "source": [
    "# 2. The disease-disease graph"
   ]
  },
  {
   "cell_type": "code",
   "execution_count": 5,
   "metadata": {},
   "outputs": [],
   "source": [
    "OUTPUT_DISEASEDISEASE_FILENAME = \"disease-disease.csv\""
   ]
  },
  {
   "cell_type": "code",
   "execution_count": 6,
   "metadata": {},
   "outputs": [],
   "source": [
    "def intersection(list1, list2):\n",
    "    return(list(set(list1) & set(list2)))"
   ]
  },
  {
   "cell_type": "code",
   "execution_count": 7,
   "metadata": {},
   "outputs": [],
   "source": [
    "d1, d2 = [] , []\n",
    "ngen1 , ngen2 = [] , []\n",
    "cl1 , cl2 = [] , []\n",
    "com_gen = [] \n",
    "for idx1, disorder1 in diseasome.iterrows():\n",
    "    gene_list_1 = list(map(str.strip, disorder1[\"gene_list\"].split(',')))\n",
    "    for idx2, disorder2 in diseasome.iterrows():\n",
    "        if idx2 > idx1:\n",
    "            gene_list_2 = list(map(str.strip, disorder2[\"gene_list\"].split(',')))\n",
    "            common_genes = intersection(gene_list_1, gene_list_2)\n",
    "            if len(common_genes) > 0:\n",
    "                d1.append(disorder1[\"disorder\"])\n",
    "                d2.append(disorder2[\"disorder\"])\n",
    "                ngen1.append(len(gene_list_1))\n",
    "                ngen2.append(len(gene_list_2))\n",
    "                cl1.append(disorder1['class'])\n",
    "                cl2.append(disorder2['class'])\n",
    "                com_gen.append(len(common_genes))\n",
    "        \n",
    "\n",
    "df2 = pd.DataFrame({'disorder1': d1,\n",
    "                   'disorder2': d2,\n",
    "                   'ngenes1' : ngen1,\n",
    "                   'ngenes2' : ngen2,\n",
    "                  'class1': cl1,\n",
    "                  'class2': cl2,\n",
    "                   'ngenescommon' : com_gen})    "
   ]
  },
  {
   "cell_type": "code",
   "execution_count": 17,
   "metadata": {},
   "outputs": [
    {
     "data": {
      "text/html": [
       "<div>\n",
       "<style scoped>\n",
       "    .dataframe tbody tr th:only-of-type {\n",
       "        vertical-align: middle;\n",
       "    }\n",
       "\n",
       "    .dataframe tbody tr th {\n",
       "        vertical-align: top;\n",
       "    }\n",
       "\n",
       "    .dataframe thead th {\n",
       "        text-align: right;\n",
       "    }\n",
       "</style>\n",
       "<table border=\"1\" class=\"dataframe\">\n",
       "  <thead>\n",
       "    <tr style=\"text-align: right;\">\n",
       "      <th></th>\n",
       "      <th>disorder1</th>\n",
       "      <th>disorder2</th>\n",
       "      <th>ngenes1</th>\n",
       "      <th>ngenes2</th>\n",
       "      <th>class1</th>\n",
       "      <th>class2</th>\n",
       "      <th>ngenescommon</th>\n",
       "    </tr>\n",
       "  </thead>\n",
       "  <tbody>\n",
       "    <tr>\n",
       "      <th>0</th>\n",
       "      <td>17,20-lyase deficiency, isolated</td>\n",
       "      <td>17-alpha-hydroxylase/17,20-lyase deficiency</td>\n",
       "      <td>3</td>\n",
       "      <td>3</td>\n",
       "      <td>Endocrine</td>\n",
       "      <td>Endocrine</td>\n",
       "      <td>3</td>\n",
       "    </tr>\n",
       "    <tr>\n",
       "      <th>1</th>\n",
       "      <td>3-methylglutaconicaciduria, type III</td>\n",
       "      <td>Optic atrophy and cataract</td>\n",
       "      <td>2</td>\n",
       "      <td>2</td>\n",
       "      <td>Metabolic</td>\n",
       "      <td>Ophthamological</td>\n",
       "      <td>2</td>\n",
       "    </tr>\n",
       "    <tr>\n",
       "      <th>2</th>\n",
       "      <td>Aarskog-Scott syndrome</td>\n",
       "      <td>Mental retardation, X-linked nonsyndromic</td>\n",
       "      <td>3</td>\n",
       "      <td>3</td>\n",
       "      <td>multiple</td>\n",
       "      <td>Neurological</td>\n",
       "      <td>3</td>\n",
       "    </tr>\n",
       "  </tbody>\n",
       "</table>\n",
       "</div>"
      ],
      "text/plain": [
       "                              disorder1  \\\n",
       "0      17,20-lyase deficiency, isolated   \n",
       "1  3-methylglutaconicaciduria, type III   \n",
       "2                Aarskog-Scott syndrome   \n",
       "\n",
       "                                     disorder2  ngenes1  ngenes2     class1  \\\n",
       "0  17-alpha-hydroxylase/17,20-lyase deficiency        3        3  Endocrine   \n",
       "1                   Optic atrophy and cataract        2        2  Metabolic   \n",
       "2    Mental retardation, X-linked nonsyndromic        3        3   multiple   \n",
       "\n",
       "            class2  ngenescommon  \n",
       "0        Endocrine             3  \n",
       "1  Ophthamological             2  \n",
       "2     Neurological             3  "
      ]
     },
     "execution_count": 17,
     "metadata": {},
     "output_type": "execute_result"
    }
   ],
   "source": [
    "df2.head(3)"
   ]
  },
  {
   "cell_type": "code",
   "execution_count": 18,
   "metadata": {},
   "outputs": [],
   "source": [
    "df2.to_csv(OUTPUT_DISEASEDISEASE_FILENAME,sep = '\\t', index = False)"
   ]
  },
  {
   "cell_type": "markdown",
   "metadata": {},
   "source": [
    "![Largest connected component of diseases graph](disease-disease-largest-cc.png)"
   ]
  },
  {
   "cell_type": "markdown",
   "metadata": {},
   "source": [
    "![Diseases graph](disease-disease.png)"
   ]
  },
  {
   "cell_type": "markdown",
   "metadata": {},
   "source": [
    "In this graph we can observe the groups or disconnected components of disorders that share common genes in a direct or indirect way. It is interesting to see that the largest component only contains 132 nodes of the total nodes in the graph (that is a 8%) and that most of the small disconnected components are diseases that share at least 1 gene between them as evidence that they have all or almost all posible connections (complete subgraphs) and most of these components contain diseases of the same type. As a result, L to L max ratio seems to increase as components get smaller in size."
   ]
  },
  {
   "cell_type": "markdown",
   "metadata": {},
   "source": [
    "# DELIVER (individually)\n",
    "\n",
    "Deliver a zip file containing:\n",
    "\n",
    "* This notebook\n",
    "* The ``diseasome.csv`` and ``diseasome.png`` files\n",
    "* The ``disease-disease.csv`` and ``disease-disease.png`` files"
   ]
  },
  {
   "cell_type": "markdown",
   "metadata": {},
   "source": [
    "<font size=\"+2\" color=\"#003300\">I hereby declare that, except for the code provided by the course instructors, all of my code, report, and figures were produced by myself.</font>\n"
   ]
  },
  {
   "cell_type": "code",
   "execution_count": null,
   "metadata": {},
   "outputs": [],
   "source": []
  }
 ],
 "metadata": {
  "kernelspec": {
   "display_name": "Python 3",
   "language": "python",
   "name": "python3"
  },
  "language_info": {
   "codemirror_mode": {
    "name": "ipython",
    "version": 3
   },
   "file_extension": ".py",
   "mimetype": "text/x-python",
   "name": "python",
   "nbconvert_exporter": "python",
   "pygments_lexer": "ipython3",
   "version": "3.7.0"
  }
 },
 "nbformat": 4,
 "nbformat_minor": 2
}
